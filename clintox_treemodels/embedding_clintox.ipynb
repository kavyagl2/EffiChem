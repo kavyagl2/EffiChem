{
 "cells": [
  {
   "cell_type": "code",
   "execution_count": 3,
   "id": "b8cf5256",
   "metadata": {},
   "outputs": [
    {
     "name": "stderr",
     "output_type": "stream",
     "text": [
      "/storage/qnap_home/raghvendra2/micromamba/envs/Molformer/lib/python3.10/site-packages/tqdm/auto.py:21: TqdmWarning: IProgress not found. Please update jupyter and ipywidgets. See https://ipywidgets.readthedocs.io/en/stable/user_install.html\n",
      "  from .autonotebook import tqdm as notebook_tqdm\n"
     ]
    }
   ],
   "source": [
    "import os\n",
    "import torch\n",
    "import pandas as pd\n",
    "import numpy as np\n",
    "from transformers import AutoTokenizer, AutoModel, AutoModelForSequenceClassification "
   ]
  },
  {
   "cell_type": "code",
   "execution_count": 1,
   "id": "93220e4f",
   "metadata": {},
   "outputs": [],
   "source": [
    "file_paths = {\n",
    "    \"clintox_test\": \"/home/raghvendra2/Molformer_Finetuning/clintox_test.csv\",\n",
    "    \"clintox_eval\": \"/home/raghvendra2/Molformer_Finetuning/clintox_valid.csv\",\n",
    "    \"clintox_train\": \"/home/raghvendra2/Molformer_Finetuning/clintox_train.csv\"\n",
    "}"
   ]
  },
  {
   "cell_type": "code",
   "execution_count": 4,
   "id": "6a8852a1",
   "metadata": {},
   "outputs": [],
   "source": [
    "datasets = {name: pd.read_csv(path) for name, path in file_paths.items()}\n"
   ]
  },
  {
   "cell_type": "code",
   "execution_count": 5,
   "id": "5a948136",
   "metadata": {},
   "outputs": [],
   "source": [
    "# Model configurations\n",
    "models_info = {\n",
    "    \"ChemBERTa_Base\": {\n",
    "        \"tokenizer\": \"seyonec/SMILES_tokenized_PubChem_shard00_160k\",\n",
    "        \"model\": \"seyonec/SMILES_tokenized_PubChem_shard00_160k\"\n",
    "    },\n",
    "    \"MolFormer_Base\": {\n",
    "        \"tokenizer\": \"ibm-research/MoLFormer-XL-both-10pct\",\n",
    "        \"model\": \"ibm-research/MoLFormer-XL-both-10pct\"\n",
    "    },\n",
    "    \"MolFormer_Finetuned\": {\n",
    "        \"tokenizer\": \"ibm-research/MoLFormer-XL-both-10pct\",\n",
    "        \"model\": \"/home/raghvendra2/Molformer_Finetuning/Clintox_Final_Molformer_model\",\n",
    "        \"num_labels\": 2\n",
    "    },\n",
    "    \"ChemBERTa_77M_MTR\": {\n",
    "        \"tokenizer\": \"DeepChem/ChemBERTa-77M-MTR\",\n",
    "        \"model\": \"/home/raghvendra2/Molformer_Finetuning/Clintox_Final_chemberta_77m_mtr_model\",\n",
    "        \"num_labels\": 2\n",
    "    },\n",
    "    \"ChemBERTa_10M_MTR\": {\n",
    "        \"tokenizer\": \"DeepChem/ChemBERTa-10M-MTR\",\n",
    "        \"model\": \"/home/raghvendra2/Molformer_Finetuning/Clintox_Final_chemberta_10m_mtr_model\",\n",
    "        \"num_labels\": 2\n",
    "    },\n",
    "    \"ChemBERTa_77M_MLM\": {\n",
    "        \"tokenizer\": \"DeepChem/ChemBERTa-77M-MLM\",\n",
    "        \"model\": \"/home/raghvendra2/Molformer_Finetuning/Clintox_Final_chemberta_77m_mlm_model\",\n",
    "        \"num_labels\": 2\n",
    "    },\n",
    "    \"ChemBERTa_10M_MLM\": {\n",
    "        \"tokenizer\": \"DeepChem/ChemBERTa-10M-MLM\",\n",
    "        \"model\": \"/home/raghvendra2/Molformer_Finetuning/Clintox_Final_chemberta_10m_mlm_model\",\n",
    "        \"num_labels\": 2\n",
    "    },\n",
    "    \"ChemBERTa_5M_MTR\": {\n",
    "        \"tokenizer\": \"DeepChem/ChemBERTa-5M-MTR\",\n",
    "        \"model\": \"/home/raghvendra2/Molformer_Finetuning/Clintox_Final_chemberta_5m_mtr_model\",\n",
    "        \"num_labels\": 2\n",
    "    }\n",
    "}\n"
   ]
  },
  {
   "cell_type": "code",
   "execution_count": 6,
   "id": "bb4fa169",
   "metadata": {},
   "outputs": [],
   "source": [
    "os.environ[\"TOKENIZERS_PARALLELISM\"] = \"false\"\n",
    "device = torch.device(\"cuda\" if torch.cuda.is_available() else \"cpu\")\n"
   ]
  },
  {
   "cell_type": "code",
   "execution_count": 7,
   "id": "cf0b1065",
   "metadata": {},
   "outputs": [],
   "source": [
    "def load_model(model_info):\n",
    "    \"\"\"Load model and tokenizer. Choose appropriate class based on whether it's a classification model.\"\"\"\n",
    "    try:\n",
    "        tokenizer = AutoTokenizer.from_pretrained(\n",
    "            model_info[\"tokenizer\"], trust_remote_code=True\n",
    "        )\n",
    "\n",
    "        if \"num_labels\" in model_info:\n",
    "            model = AutoModelForSequenceClassification.from_pretrained(\n",
    "                model_info[\"model\"],\n",
    "                num_labels=model_info[\"num_labels\"],\n",
    "                trust_remote_code=True\n",
    "            )\n",
    "        else:\n",
    "            model = AutoModel.from_pretrained(\n",
    "                model_info[\"model\"],\n",
    "                trust_remote_code=True\n",
    "            )\n",
    "\n",
    "        model.to(device)\n",
    "        model.eval()\n",
    "        print(f\"Loaded model: {model_info['model']}\")\n",
    "        return tokenizer, model\n",
    "\n",
    "    except Exception as e:\n",
    "        print(f\"Error loading {model_info['model']}: {e}\")\n",
    "        return None, None\n"
   ]
  },
  {
   "cell_type": "code",
   "execution_count": 8,
   "id": "01d369fa",
   "metadata": {},
   "outputs": [],
   "source": [
    "def get_embeddings(smiles_list, tokenizer, model):\n",
    "    embeddings = []\n",
    "    \n",
    "    for smiles in smiles_list:\n",
    "        tokens = tokenizer(smiles, return_tensors=\"pt\", padding=True, truncation=True, max_length=512)\n",
    "        tokens = {k: v.to(device) for k, v in tokens.items()}\n",
    "\n",
    "        with torch.no_grad():\n",
    "            # Extract embeddings from base model\n",
    "            if hasattr(model, \"roberta\"):\n",
    "                output = model.roberta(**tokens).last_hidden_state.mean(dim=1)\n",
    "            elif hasattr(model, \"bert\"):\n",
    "                output = model.bert(**tokens).last_hidden_state.mean(dim=1)\n",
    "            elif hasattr(model, \"base_model\"):\n",
    "                output = model.base_model(**tokens).last_hidden_state.mean(dim=1)\n",
    "            else:\n",
    "                raise ValueError(\"Unknown model architecture!\")\n",
    "                \n",
    "        embeddings.append(output.squeeze().cpu().numpy())\n",
    "\n",
    "    return np.array(embeddings)"
   ]
  },
  {
   "cell_type": "code",
   "execution_count": 9,
   "id": "bd7536c3",
   "metadata": {},
   "outputs": [],
   "source": [
    "output_dir = \"/home/raghvendra2/Molformer_Finetuning/clintox_output_embeddings/all_models\"\n",
    "os.makedirs(output_dir, exist_ok=True)"
   ]
  },
  {
   "cell_type": "code",
   "execution_count": null,
   "id": "8d6b2037",
   "metadata": {},
   "outputs": [
    {
     "name": "stdout",
     "output_type": "stream",
     "text": [
      "Processing clintox_test...\n",
      "Extracting embeddings using ChemBERTa_Base...\n"
     ]
    },
    {
     "name": "stderr",
     "output_type": "stream",
     "text": [
      "2025-04-11 08:26:13.953787: I tensorflow/core/util/port.cc:153] oneDNN custom operations are on. You may see slightly different numerical results due to floating-point round-off errors from different computation orders. To turn them off, set the environment variable `TF_ENABLE_ONEDNN_OPTS=0`.\n",
      "2025-04-11 08:26:13.973306: E external/local_xla/xla/stream_executor/cuda/cuda_fft.cc:467] Unable to register cuFFT factory: Attempting to register factory for plugin cuFFT when one has already been registered\n",
      "WARNING: All log messages before absl::InitializeLog() is called are written to STDERR\n",
      "E0000 00:00:1744352773.998143 2002980 cuda_dnn.cc:8579] Unable to register cuDNN factory: Attempting to register factory for plugin cuDNN when one has already been registered\n",
      "E0000 00:00:1744352774.005778 2002980 cuda_blas.cc:1407] Unable to register cuBLAS factory: Attempting to register factory for plugin cuBLAS when one has already been registered\n",
      "W0000 00:00:1744352774.024258 2002980 computation_placer.cc:177] computation placer already registered. Please check linkage and avoid linking the same target more than once.\n",
      "W0000 00:00:1744352774.024274 2002980 computation_placer.cc:177] computation placer already registered. Please check linkage and avoid linking the same target more than once.\n",
      "W0000 00:00:1744352774.024276 2002980 computation_placer.cc:177] computation placer already registered. Please check linkage and avoid linking the same target more than once.\n",
      "W0000 00:00:1744352774.024278 2002980 computation_placer.cc:177] computation placer already registered. Please check linkage and avoid linking the same target more than once.\n",
      "2025-04-11 08:26:14.031268: I tensorflow/core/platform/cpu_feature_guard.cc:210] This TensorFlow binary is optimized to use available CPU instructions in performance-critical operations.\n",
      "To enable the following instructions: AVX2 AVX512F AVX512_VNNI FMA, in other operations, rebuild TensorFlow with the appropriate compiler flags.\n"
     ]
    },
    {
     "name": "stdout",
     "output_type": "stream",
     "text": [
      "Loaded model: seyonec/SMILES_tokenized_PubChem_shard00_160k\n",
      "Extracting embeddings using MolFormer_Base...\n",
      "Loaded model: ibm-research/MoLFormer-XL-both-10pct\n",
      "Extracting embeddings using MolFormer_Finetuned...\n",
      "Loaded model: /home/raghvendra2/Molformer_Finetuning/Clintox_Final_Molformer_model\n",
      "Extracting embeddings using ChemBERTa_77M_MTR...\n",
      "Loaded model: /home/raghvendra2/Molformer_Finetuning/Clintox_Final_chemberta_77m_mtr_model\n",
      "Extracting embeddings using ChemBERTa_10M_MTR...\n",
      "Loaded model: /home/raghvendra2/Molformer_Finetuning/Clintox_Final_chemberta_10m_mtr_model\n",
      "Extracting embeddings using ChemBERTa_77M_MLM...\n",
      "Loaded model: /home/raghvendra2/Molformer_Finetuning/Clintox_Final_chemberta_77m_mlm_model\n",
      "Extracting embeddings using ChemBERTa_10M_MLM...\n",
      "Loaded model: /home/raghvendra2/Molformer_Finetuning/Clintox_Final_chemberta_10m_mlm_model\n",
      "Extracting embeddings using ChemBERTa_5M_MTR...\n",
      "Loaded model: /home/raghvendra2/Molformer_Finetuning/Clintox_Final_chemberta_5m_mtr_model\n",
      "Saved: /home/raghvendra2/Molformer_Finetuning/clintox_output_embeddings/all_models/clintox_test_embed.csv\n",
      "Processing clintox_eval...\n",
      "Extracting embeddings using ChemBERTa_Base...\n",
      "Loaded model: seyonec/SMILES_tokenized_PubChem_shard00_160k\n",
      "Extracting embeddings using MolFormer_Base...\n",
      "Loaded model: ibm-research/MoLFormer-XL-both-10pct\n",
      "Extracting embeddings using MolFormer_Finetuned...\n",
      "Loaded model: /home/raghvendra2/Molformer_Finetuning/Clintox_Final_Molformer_model\n",
      "Extracting embeddings using ChemBERTa_77M_MTR...\n",
      "Loaded model: /home/raghvendra2/Molformer_Finetuning/Clintox_Final_chemberta_77m_mtr_model\n",
      "Extracting embeddings using ChemBERTa_10M_MTR...\n",
      "Loaded model: /home/raghvendra2/Molformer_Finetuning/Clintox_Final_chemberta_10m_mtr_model\n",
      "Extracting embeddings using ChemBERTa_77M_MLM...\n",
      "Loaded model: /home/raghvendra2/Molformer_Finetuning/Clintox_Final_chemberta_77m_mlm_model\n",
      "Extracting embeddings using ChemBERTa_10M_MLM...\n",
      "Loaded model: /home/raghvendra2/Molformer_Finetuning/Clintox_Final_chemberta_10m_mlm_model\n",
      "Extracting embeddings using ChemBERTa_5M_MTR...\n",
      "Loaded model: /home/raghvendra2/Molformer_Finetuning/Clintox_Final_chemberta_5m_mtr_model\n",
      "Saved: /home/raghvendra2/Molformer_Finetuning/clintox_output_embeddings/all_models/clintox_eval_embed.csv\n",
      "Processing clintox_train...\n",
      "Extracting embeddings using ChemBERTa_Base...\n",
      "Loaded model: seyonec/SMILES_tokenized_PubChem_shard00_160k\n",
      "Extracting embeddings using MolFormer_Base...\n",
      "Loaded model: ibm-research/MoLFormer-XL-both-10pct\n",
      "Extracting embeddings using MolFormer_Finetuned...\n",
      "Loaded model: /home/raghvendra2/Molformer_Finetuning/Clintox_Final_Molformer_model\n"
     ]
    }
   ],
   "source": [
    "for dataset_name, df in datasets.items():\n",
    "    print(f\"Processing {dataset_name}...\")\n",
    "\n",
    "    for model_name, model_info in models_info.items():\n",
    "        print(f\"Extracting embeddings using {model_name}...\")\n",
    "\n",
    "        tokenizer, model = load_model(model_info)\n",
    "        if not tokenizer or not model:\n",
    "            continue \n",
    "\n",
    "        embeddings = get_embeddings(df[\"smiles\"].tolist(), tokenizer, model)\n",
    "\n",
    "        df[model_name + \"_embeddings\"] = [\",\".join(map(str, emb)) for emb in embeddings]\n",
    "\n",
    "    output_path = os.path.join(output_dir, f\"{dataset_name}_embed.csv\")\n",
    "    df.to_csv(output_path, index=False)\n",
    "    print(f\"Saved: {output_path}\")"
   ]
  },
  {
   "cell_type": "code",
   "execution_count": 1,
   "id": "fc83b6e8",
   "metadata": {},
   "outputs": [
    {
     "name": "stdout",
     "output_type": "stream",
     "text": [
      "Column names:\n",
      "['smiles', 'FDA_APPROVED', 'CT_TOX', 'ChemBERTa_Base_embeddings', 'MolFormer_Base_embeddings', 'MolFormer_Finetuned_embeddings', 'ChemBERTa_77M_MTR_embeddings', 'ChemBERTa_10M_MTR_embeddings', 'ChemBERTa_77M_MLM_embeddings', 'ChemBERTa_10M_MLM_embeddings', 'ChemBERTa_5M_MTR_embeddings']\n"
     ]
    }
   ],
   "source": [
    "import pandas as pd\n",
    "\n",
    "file_path = \"/home/raghvendra2/Molformer_Finetuning/clintox_output_embeddings/all_models/clintox_train_embed.csv\"\n",
    "df = pd.read_csv(file_path, nrows=5)\n",
    "\n",
    "print(\"Column names:\")\n",
    "print(df.columns.tolist())\n"
   ]
  },
  {
   "cell_type": "code",
   "execution_count": null,
   "id": "848a5d38",
   "metadata": {},
   "outputs": [],
   "source": []
  },
  {
   "cell_type": "code",
   "execution_count": null,
   "id": "224fec13",
   "metadata": {},
   "outputs": [],
   "source": []
  },
  {
   "cell_type": "code",
   "execution_count": null,
   "id": "9a08ea19",
   "metadata": {},
   "outputs": [],
   "source": []
  },
  {
   "cell_type": "code",
   "execution_count": null,
   "id": "2c3716e2",
   "metadata": {},
   "outputs": [],
   "source": []
  }
 ],
 "metadata": {
  "kernelspec": {
   "display_name": "Python 3",
   "language": "python",
   "name": "python3"
  },
  "language_info": {
   "codemirror_mode": {
    "name": "ipython",
    "version": 3
   },
   "file_extension": ".py",
   "mimetype": "text/x-python",
   "name": "python",
   "nbconvert_exporter": "python",
   "pygments_lexer": "ipython3",
   "version": "3.10.0"
  }
 },
 "nbformat": 4,
 "nbformat_minor": 5
}
