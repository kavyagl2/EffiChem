{
 "cells": [
  {
   "cell_type": "markdown",
   "metadata": {},
   "source": [
    "**METRICS**"
   ]
  },
  {
   "cell_type": "code",
   "execution_count": 1,
   "metadata": {},
   "outputs": [
    {
     "name": "stdout",
     "output_type": "stream",
     "text": [
      "\n",
      "===== MolFormer Metrics =====\n",
      "          Accuracy     AUC  Precision  Recall  F1 Micro  F1 Macro\n",
      "XGBoost     0.8793  0.9667     0.6663  0.6443    0.8793    0.6522\n",
      "LightGBM    0.8784  0.9623     0.8470  0.7082    0.8784    0.7159\n",
      "CatBoost    0.8385  0.9397     0.6231  0.6796    0.8385    0.6473\n",
      "\n",
      "===== ChemBERTa Metrics =====\n",
      "          Accuracy     AUC  Precision  Recall  F1 Micro  F1 Macro\n",
      "XGBoost     0.8855  0.9656     0.8680  0.6924    0.8855    0.7194\n",
      "LightGBM    0.8869  0.9623     0.8599  0.7186    0.8869    0.7278\n",
      "CatBoost    0.8625  0.9560     0.8218  0.7391    0.8625    0.7436\n"
     ]
    }
   ],
   "source": [
    "import numpy as np\n",
    "import pandas as pd\n",
    "\n",
    "chemberta_metrics_path = \"/home/raghvendra2/Molformer_Finetuning/classification_model_flavor/Results_baseline/metrics_ChemBERTa_Base_embeddings.npy\"\n",
    "molformer_metrics_path = \"/home/raghvendra2/Molformer_Finetuning/classification_model_flavor/Results_baseline/metrics_MolFormer_Base_embeddings.npy\"\n",
    "\n",
    "molformer_metrics_dict = np.load(molformer_metrics_path, allow_pickle=True).item()\n",
    "chemberta_metrics_dict = np.load(chemberta_metrics_path, allow_pickle=True).item()\n",
    "\n",
    "molformer_df = pd.DataFrame(molformer_metrics_dict).T \n",
    "chemberta_df = pd.DataFrame(chemberta_metrics_dict).T  \n",
    "\n",
    "# Print as Tables\n",
    "print(\"\\n===== MolFormer Metrics =====\")\n",
    "print(molformer_df.to_string())\n",
    "\n",
    "print(\"\\n===== ChemBERTa Metrics =====\")\n",
    "print(chemberta_df.to_string())\n"
   ]
  },
  {
   "cell_type": "code",
   "execution_count": 2,
   "metadata": {},
   "outputs": [
    {
     "name": "stdout",
     "output_type": "stream",
     "text": [
      "\n",
      "===== Metrics from: metrics_ChemBERTa_10M_MLM_embeddings.npy =====\n",
      "          Accuracy     AUC  Precision  Recall  F1 Micro  F1 Macro     MCC\n",
      "XGBoost     0.8882  0.9637     0.8631  0.7270    0.8882    0.7609  0.7900\n",
      "LightGBM    0.8838  0.9687     0.8510  0.7387    0.8838    0.7605  0.7879\n",
      "CatBoost    0.8713  0.9623     0.7504  0.7811    0.8713    0.7615  0.7763\n",
      "\n",
      "===== Metrics from: metrics_ChemBERTa_10M_MTR_embeddings.npy =====\n",
      "          Accuracy     AUC  Precision  Recall  F1 Micro  F1 Macro     MCC\n",
      "XGBoost     0.8909  0.9662     0.8679  0.7331    0.8909    0.7666  0.7950\n",
      "LightGBM    0.8815  0.9660     0.7706  0.8538    0.8815    0.8070  0.7908\n",
      "CatBoost    0.8975  0.9752     0.8332  0.8676    0.8975    0.8487  0.8170\n",
      "\n",
      "===== Metrics from: metrics_ChemBERTa_5M_MTR_embeddings.npy =====\n",
      "          Accuracy     AUC  Precision  Recall  F1 Micro  F1 Macro     MCC\n",
      "XGBoost     0.8900  0.9782     0.8739  0.7030    0.8900    0.7281  0.7931\n",
      "LightGBM    0.8855  0.9666     0.7496  0.7910    0.8855    0.7677  0.7985\n",
      "CatBoost    0.8913  0.9741     0.8557  0.7617    0.8913    0.7733  0.8066\n",
      "\n",
      "===== Metrics from: metrics_ChemBERTa_77M_MLM_embeddings.npy =====\n",
      "          Accuracy     AUC  Precision  Recall  F1 Micro  F1 Macro     MCC\n",
      "XGBoost     0.8869  0.9558     0.8667  0.6936    0.8869    0.7198  0.7866\n",
      "LightGBM    0.8744  0.9419     0.7597  0.7805    0.8744    0.7666  0.7785\n",
      "CatBoost    0.8722  0.9653     0.7158  0.8126    0.8722    0.7551  0.7754\n",
      "\n",
      "===== Metrics from: metrics_ChemBERTa_77M_MTR_embeddings.npy =====\n",
      "          Accuracy     AUC  Precision  Recall  F1 Micro  F1 Macro     MCC\n",
      "XGBoost     0.8922  0.9772     0.8721  0.7006    0.8922    0.7265  0.7969\n",
      "LightGBM    0.8886  0.9737     0.8601  0.7083    0.8886    0.7240  0.7950\n",
      "CatBoost    0.8829  0.9712     0.8486  0.7833    0.8829    0.7969  0.7916\n",
      "\n",
      "===== Metrics from: metrics_ChemBERTa_Base_embeddings.npy =====\n",
      "          Accuracy     AUC  Precision  Recall  F1 Micro  F1 Macro     MCC\n",
      "XGBoost     0.8846  0.9661     0.8659  0.6883    0.8846    0.7162  0.7824\n",
      "LightGBM    0.8886  0.9611     0.8616  0.7234    0.8886    0.7308  0.8001\n",
      "CatBoost    0.8354  0.9425     0.6337  0.7473    0.8354    0.6738  0.7184\n",
      "\n",
      "===== Metrics from: metrics_ChemBERTa_Finetuned_embeddings.npy =====\n",
      "          Accuracy     AUC  Precision  Recall  F1 Micro  F1 Macro     MCC\n",
      "XGBoost     0.8771  0.9739     0.7564  0.6837    0.8771    0.7031  0.7676\n",
      "LightGBM    0.8855  0.9737     0.7591  0.7356    0.8855    0.7438  0.7872\n",
      "CatBoost    0.8713  0.9678     0.7816  0.7735    0.8713    0.7699  0.7729\n",
      "\n",
      "===== Metrics from: metrics_MolFormer_Base_embeddings.npy =====\n",
      "          Accuracy     AUC  Precision  Recall  F1 Micro  F1 Macro     MCC\n",
      "XGBoost     0.8700  0.9525     0.6592  0.6328    0.8700    0.6402  0.7537\n",
      "LightGBM    0.8758  0.9538     0.8409  0.7134    0.8758    0.7151  0.7796\n",
      "CatBoost    0.8722  0.9577     0.7345  0.7071    0.8722    0.7013  0.7737\n",
      "\n",
      "===== Metrics from: metrics_MolFormer_Finetuned_embeddings.npy =====\n",
      "          Accuracy     AUC  Precision  Recall  F1 Micro  F1 Macro     MCC\n",
      "XGBoost     0.8975  0.9737     0.8821  0.7093    0.8975    0.7360  0.8064\n",
      "LightGBM    0.8980  0.9735     0.8788  0.7820    0.8980    0.8135  0.8095\n",
      "CatBoost    0.8935  0.9738     0.8664  0.7903    0.8935    0.8102  0.8070\n"
     ]
    }
   ],
   "source": [
    "import os\n",
    "import numpy as np\n",
    "import pandas as pd\n",
    "\n",
    "results_dir = \"/home/raghvendra2/Molformer_Finetuning/classification_model_flavor/Results\"\n",
    "\n",
    "metric_files = sorted([f for f in os.listdir(results_dir) if f.startswith(\"metrics_\") and f.endswith(\".npy\")])\n",
    "\n",
    "for file_name in metric_files:\n",
    "    file_path = os.path.join(results_dir, file_name)\n",
    "    \n",
    "    try:\n",
    "        metrics_dict = np.load(file_path, allow_pickle=True).item()\n",
    "        metrics_df = pd.DataFrame(metrics_dict).T\n",
    "        \n",
    "        print(f\"\\n===== Metrics from: {file_name} =====\")\n",
    "        print(metrics_df.to_string())\n",
    "        \n",
    "    except Exception as e:\n",
    "        print(f\"Error reading {file_name}: {e}\")\n"
   ]
  },
  {
   "cell_type": "markdown",
   "metadata": {},
   "source": [
    "**PARAMS**"
   ]
  },
  {
   "cell_type": "code",
   "execution_count": 2,
   "metadata": {},
   "outputs": [],
   "source": [
    "### ====== BEST PARAMS FILES (npy) ====== ###\n",
    "molformer_params_path = \"/home/raghvendra2/Molformer_Finetuning/classification_model_flavor/Results_baseline/best_params_MolFormer_Base_embeddings.json\"\n",
    "chemberta_params_path = \"/home/raghvendra2/Molformer_Finetuning/classification_model_flavor/Results_baseline/best_params_ChemBERTa_Base_embeddings.json\"\n"
   ]
  },
  {
   "cell_type": "code",
   "execution_count": 4,
   "metadata": {},
   "outputs": [
    {
     "name": "stdout",
     "output_type": "stream",
     "text": [
      "\n",
      "===== MolFormer Best Hyperparameters =====\n",
      "                                                                      LightGBM                                                                     CatBoost\n",
      "0  {'max_depth': 4, 'learning_rate': 0.06276426483034911, 'n_estimators': 293}  {'max_depth': 8, 'learning_rate': 0.08569847429722578, 'n_estimators': 231}\n",
      "\n",
      "===== ChemBERTa Best Hyperparameters =====\n",
      "                                                                       LightGBM                                                                     CatBoost\n",
      "0  {'max_depth': 5, 'learning_rate': 0.055931730180030954, 'n_estimators': 310}  {'max_depth': 6, 'learning_rate': 0.01976065986026186, 'n_estimators': 403}\n"
     ]
    }
   ],
   "source": [
    "import pandas as pd\n",
    "import json\n",
    "\n",
    "with open(molformer_params_path, \"r\") as f:\n",
    "    molformer_best_params = json.load(f)\n",
    "\n",
    "with open(chemberta_params_path, \"r\") as f:\n",
    "    chemberta_best_params = json.load(f)\n",
    "\n",
    "molformer_params_df = pd.DataFrame([molformer_best_params])\n",
    "chemberta_params_df = pd.DataFrame([chemberta_best_params])\n",
    "\n",
    "print(\"\\n===== MolFormer Best Hyperparameters =====\")\n",
    "print(molformer_params_df.to_string())\n",
    "\n",
    "print(\"\\n===== ChemBERTa Best Hyperparameters =====\")\n",
    "print(chemberta_params_df.to_string())"
   ]
  },
  {
   "cell_type": "markdown",
   "metadata": {},
   "source": [
    "**LIGHTGBM MODEL**"
   ]
  },
  {
   "cell_type": "code",
   "execution_count": 21,
   "metadata": {},
   "outputs": [],
   "source": [
    "### ====== LIGHTGBM MODEL FILES ====== ###\n",
    "molformer_lgb_model_path = \"/home/raghvendra2/Molformer_Finetuning/classification_model_flavor/Results_baseline/lgb_model_MolFormer_Base_embeddings.pkl\"\n",
    "chemberta_lgb_model_path = \"/home/raghvendra2/Molformer_Finetuning/classification_model_flavor/Results_baseline/lgb_model_ChemBERTa_Base_embeddings.pkl\""
   ]
  },
  {
   "cell_type": "code",
   "execution_count": 22,
   "metadata": {},
   "outputs": [],
   "source": [
    "import lightgbm as lgb\n",
    "import catboost as cb\n",
    "import pickle"
   ]
  },
  {
   "cell_type": "code",
   "execution_count": 23,
   "metadata": {},
   "outputs": [
    {
     "ename": "UnpicklingError",
     "evalue": "invalid load key, '\\x08'.",
     "output_type": "error",
     "traceback": [
      "\u001b[0;31m---------------------------------------------------------------------------\u001b[0m",
      "\u001b[0;31mUnpicklingError\u001b[0m                           Traceback (most recent call last)",
      "Cell \u001b[0;32mIn[23], line 2\u001b[0m\n\u001b[1;32m      1\u001b[0m \u001b[38;5;28;01mwith\u001b[39;00m \u001b[38;5;28mopen\u001b[39m(molformer_lgb_model_path, \u001b[38;5;124m\"\u001b[39m\u001b[38;5;124mrb\u001b[39m\u001b[38;5;124m\"\u001b[39m) \u001b[38;5;28;01mas\u001b[39;00m f:\n\u001b[0;32m----> 2\u001b[0m     molformer_lgb_model \u001b[38;5;241m=\u001b[39m \u001b[43mpickle\u001b[49m\u001b[38;5;241;43m.\u001b[39;49m\u001b[43mload\u001b[49m\u001b[43m(\u001b[49m\u001b[43mf\u001b[49m\u001b[43m)\u001b[49m\n\u001b[1;32m      4\u001b[0m \u001b[38;5;28;01mwith\u001b[39;00m \u001b[38;5;28mopen\u001b[39m(chemberta_lgb_model_path, \u001b[38;5;124m\"\u001b[39m\u001b[38;5;124mrb\u001b[39m\u001b[38;5;124m\"\u001b[39m) \u001b[38;5;28;01mas\u001b[39;00m f:\n\u001b[1;32m      5\u001b[0m     chemberta_lgb_model \u001b[38;5;241m=\u001b[39m pickle\u001b[38;5;241m.\u001b[39mload(f)\n",
      "\u001b[0;31mUnpicklingError\u001b[0m: invalid load key, '\\x08'."
     ]
    }
   ],
   "source": [
    "with open(molformer_lgb_model_path, \"rb\") as f:\n",
    "    molformer_lgb_model = pickle.load(f)\n",
    "\n",
    "with open(chemberta_lgb_model_path, \"rb\") as f:\n",
    "    chemberta_lgb_model = pickle.load(f)\n",
    "\n",
    "molformer_params_dict = molformer_lgb_model.get_params()\n",
    "chemberta_params_dict = chemberta_lgb_model.get_params()\n",
    "\n",
    "molformer_params_df = pd.DataFrame(molformer_params_dict.items(), columns=[\"Parameter\", \"Value\"])\n",
    "chemberta_params_df = pd.DataFrame(chemberta_params_dict.items(), columns=[\"Parameter\", \"Value\"])\n",
    "\n",
    "print(\"\\n===== MolFormer LightGBM Model Parameters =====\")\n",
    "print(molformer_params_df.to_string(index=False))\n",
    "\n",
    "print(\"\\n===== ChemBERTa LightGBM Model Parameters =====\")\n",
    "print(chemberta_params_df.to_string(index=False))"
   ]
  },
  {
   "cell_type": "markdown",
   "metadata": {},
   "source": [
    "**CATBOOST MODEL**"
   ]
  },
  {
   "cell_type": "code",
   "execution_count": 12,
   "metadata": {},
   "outputs": [],
   "source": [
    "### ====== CATBOOST MODEL FILES (cbm) ====== ###\n",
    "chemberta_cat_model_path = \"/home/raghvendra2/Molformer_Finetuning/classification_model_flavor/Results_baseline/cat_model_ChemBERTa_Base_embeddings.cbm\"\n",
    "molformer_cat_model_path = \"/home/raghvendra2/Molformer_Finetuning/classification_model_flavor/Results_baseline/cat_model_MolFormer_Base_embeddings.cbm\""
   ]
  },
  {
   "cell_type": "code",
   "execution_count": 13,
   "metadata": {},
   "outputs": [
    {
     "name": "stdout",
     "output_type": "stream",
     "text": [
      "\n",
      "===== MolFormer CatBoost Model Parameters =====\n",
      "         Parameter      Value\n",
      "             depth          8\n",
      "auto_class_weights   Balanced\n",
      "     learning_rate   0.085698\n",
      "        iterations        231\n",
      "           verbose          0\n",
      "     loss_function MultiClass\n",
      "\n",
      "===== ChemBERTa CatBoost Model Parameters =====\n",
      "         Parameter      Value\n",
      "             depth          6\n",
      "auto_class_weights   Balanced\n",
      "     learning_rate   0.019761\n",
      "        iterations        403\n",
      "           verbose          0\n",
      "     loss_function MultiClass\n"
     ]
    }
   ],
   "source": [
    "import catboost as cb\n",
    "\n",
    "molformer_cat_model = cb.CatBoostClassifier()\n",
    "molformer_cat_model.load_model(molformer_cat_model_path)\n",
    "\n",
    "chemberta_cat_model = cb.CatBoostClassifier()\n",
    "chemberta_cat_model.load_model(chemberta_cat_model_path)\n",
    "\n",
    "molformer_cat_params_dict = molformer_cat_model.get_params()\n",
    "chemberta_cat_params_dict = chemberta_cat_model.get_params()\n",
    "\n",
    "molformer_cat_params_df = pd.DataFrame(molformer_cat_params_dict.items(), columns=[\"Parameter\", \"Value\"])\n",
    "chemberta_cat_params_df = pd.DataFrame(chemberta_cat_params_dict.items(), columns=[\"Parameter\", \"Value\"])\n",
    "\n",
    "print(\"\\n===== MolFormer CatBoost Model Parameters =====\")\n",
    "print(molformer_cat_params_df.to_string(index=False))\n",
    "\n",
    "print(\"\\n===== ChemBERTa CatBoost Model Parameters =====\")\n",
    "print(chemberta_cat_params_df.to_string(index=False))"
   ]
  },
  {
   "cell_type": "code",
   "execution_count": null,
   "metadata": {},
   "outputs": [],
   "source": []
  }
 ],
 "metadata": {
  "kernelspec": {
   "display_name": "Python 3",
   "language": "python",
   "name": "python3"
  },
  "language_info": {
   "codemirror_mode": {
    "name": "ipython",
    "version": 3
   },
   "file_extension": ".py",
   "mimetype": "text/x-python",
   "name": "python",
   "nbconvert_exporter": "python",
   "pygments_lexer": "ipython3",
   "version": "3.10.0"
  }
 },
 "nbformat": 4,
 "nbformat_minor": 2
}
