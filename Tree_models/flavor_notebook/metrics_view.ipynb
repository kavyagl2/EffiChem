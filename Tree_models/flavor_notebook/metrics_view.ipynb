{
 "cells": [
  {
   "cell_type": "markdown",
   "metadata": {},
   "source": [
    "**METRICS**"
   ]
  },
  {
   "cell_type": "code",
   "execution_count": null,
   "metadata": {},
   "outputs": [],
   "source": [
    "import os\n",
    "import numpy as np\n",
    "import pandas as pd\n",
    "\n",
    "results_dir = \".../Transformer_CH_Finetuned_Results\"\n",
    "\n",
    "metric_files = sorted([f for f in os.listdir(results_dir) if f.startswith(\"metrics_\") and f.endswith(\".npy\")])\n",
    "\n",
    "for file_name in metric_files:\n",
    "    file_path = os.path.join(results_dir, file_name)\n",
    "    \n",
    "    try:\n",
    "        metrics_dict = np.load(file_path, allow_pickle=True).item()\n",
    "        metrics_df = pd.DataFrame(metrics_dict).T\n",
    "        \n",
    "        print(f\"\\n===== Metrics from: {file_name} =====\")\n",
    "        print(metrics_df.to_string())\n",
    "        \n",
    "    except Exception as e:\n",
    "        print(f\"Error reading {file_name}: {e}\")"
   ]
  },
  {
   "cell_type": "code",
   "execution_count": null,
   "metadata": {},
   "outputs": [],
   "source": []
  }
 ],
 "metadata": {
  "kernelspec": {
   "display_name": "Python 3",
   "language": "python",
   "name": "python3"
  },
  "language_info": {
   "codemirror_mode": {
    "name": "ipython",
    "version": 3
   },
   "file_extension": ".py",
   "mimetype": "text/x-python",
   "name": "python",
   "nbconvert_exporter": "python",
   "pygments_lexer": "ipython3",
   "version": "3.10.14"
  }
 },
 "nbformat": 4,
 "nbformat_minor": 2
}
