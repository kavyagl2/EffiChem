{
 "cells": [
  {
   "cell_type": "markdown",
   "metadata": {},
   "source": [
    "# ALL MODELS"
   ]
  },
  {
   "cell_type": "code",
   "execution_count": 1,
   "metadata": {},
   "outputs": [
    {
     "name": "stderr",
     "output_type": "stream",
     "text": [
      "/storage/qnap_home/raghvendra2/micromamba/envs/mol_env/lib/python3.10/site-packages/tqdm/auto.py:21: TqdmWarning: IProgress not found. Please update jupyter and ipywidgets. See https://ipywidgets.readthedocs.io/en/stable/user_install.html\n",
      "  from .autonotebook import tqdm as notebook_tqdm\n"
     ]
    }
   ],
   "source": [
    "import os\n",
    "import torch\n",
    "import pandas as pd\n",
    "import numpy as np\n",
    "from transformers import AutoTokenizer, AutoModel, AutoModelForSequenceClassification "
   ]
  },
  {
   "cell_type": "code",
   "execution_count": null,
   "metadata": {},
   "outputs": [],
   "source": [
    "file_paths = {\n",
    "    \"fart_test\": \".../flavor_datasets/fart_test.csv\",\n",
    "    \"fart_eval\": \".../flavor_datasets/fart_val.csv\",\n",
    "    \"fart_train\": \".../flavor_datasets/fart_train.csv\"\n",
    "}"
   ]
  },
  {
   "cell_type": "code",
   "execution_count": 12,
   "metadata": {},
   "outputs": [],
   "source": [
    "datasets = {name: pd.read_csv(path) for name, path in file_paths.items()}\n"
   ]
  },
  {
   "cell_type": "code",
   "execution_count": null,
   "metadata": {},
   "outputs": [],
   "source": [
    "# Model configurations of additional ChemBERTa final models \n",
    "models_info = {\n",
    "    \n",
    "    \"MolFormer_Base\": {\n",
    "        \"tokenizer\": \"ibm-research/MoLFormer-XL-both-10pct\",\n",
    "        \"model\": \"ibm-research/MoLFormer-XL-both-10pct\",\n",
    "        \"num_labels\": 5\n",
    "    },\n",
    "    \"Molformer_Finetuned_WL\": {\n",
    "        \"tokenizer\": \"ibm-research/MoLFormer-XL-both-10pct\",\n",
    "        \"model\": \".../weighted_loss/Molformer_finetuned_WL\",\n",
    "        \"num_labels\": 5\n",
    "    },\n",
    "    \"MolFormer_Finetuned_FL\": {\n",
    "        \"tokenizer\": \"ibm-research/MoLFormer-XL-both-10pct\",\n",
    "        \"model\": \".../Focal_loss_models/Molformer_finetuned_FL\",\n",
    "        \"num_labels\": 5\n",
    "    },\n",
    "    \"ChemBERTa_10M_MTR_WL\": {\n",
    "        \"tokenizer\": \"DeepChem/ChemBERTa-10M-MTR\",\n",
    "        \"model\": \".../weighted_loss/Chemberta_10M_MTR_WL\",\n",
    "        \"num_labels\": 5\n",
    "    },\n",
    "    \"ChemBERTa_10M_MTR_FL\": {\n",
    "        \"tokenizer\": \"DeepChem/ChemBERTa-10M-MTR\",\n",
    "        \"model\": \".../Focal_loss_models/chemberta_10M_MTR_FL\",\n",
    "        \"num_labels\": 5\n",
    "    },\n",
    "    \"ChemBERTa_77M_MLM_WL\": {\n",
    "        \"tokenizer\": \"DeepChem/ChemBERTa-77M-MLM\",\n",
    "        \"model\": \".../weighted_loss/Chemberta_77M_MLM_WL\",\n",
    "        \"num_labels\": 5\n",
    "    },\n",
    "    \"ChemBERTa_77M_MLM_FL\": {\n",
    "        \"tokenizer\": \"DeepChem/ChemBERTa-77M-MLM\",\n",
    "        \"model\": \".../Focal_loss_models/chemberta_77M_MLM_FL\",\n",
    "        \"num_labels\": 5\n",
    "    },\n",
    "    \"ChemBERTa_10M_MLM_WL\": {\n",
    "        \"tokenizer\": \"DeepChem/ChemBERTa-10M-MLM\",\n",
    "        \"model\": \".../weighted_loss/Chemberta_10M_MLM_WL\",\n",
    "        \"num_labels\": 5\n",
    "    },\n",
    "    \"ChemBERTa_10M_MLM_FL\": {\n",
    "        \"tokenizer\": \"DeepChem/ChemBERTa-10M-MLM\",\n",
    "        \"model\": \".../Focal_loss_models/chemberta_10M_MLM_FL\",\n",
    "        \"num_labels\": 5\n",
    "    },\n",
    "    \"ChemBERTa_5M_MTR_FL\": {\n",
    "        \"tokenizer\": \"DeepChem/ChemBERTa-5M-MTR\",\n",
    "        \"model\": \".../Focal_loss_models/chemberta_5M_MTR_FL\",\n",
    "        \"num_labels\": 5\n",
    "    },\n",
    "    \"ChemBERTa_5M_MTR_WL\": {\n",
    "        \"tokenizer\": \"DeepChem/ChemBERTa-5M-MTR\",\n",
    "        \"model\": \".../weighted_loss/Chemberta_5M_MTR_WL\",\n",
    "        \"num_labels\": 5\n",
    "    },\n",
    "    \"ChemBERTa_77M_MTR_WL\": {\n",
    "        \"tokenizer\": \"DeepChem/ChemBERTa-77M-MTR\",\n",
    "        \"model\": \".../weighted_loss/Chemberta_77M_MTR_WL\",\n",
    "        \"num_labels\": 5\n",
    "    },\n",
    "    \"ChemBERTa_77M_MTR_WL\": {\n",
    "        \"tokenizer\": \"DeepChem/ChemBERTa-77M-MTR\",\n",
    "        \"model\": \".../weighted_loss/Chemberta_77M_MTR_WL\",\n",
    "        \"num_labels\": 5\n",
    "    },\n",
    "     \"ChemBERTa_77M_MTR_FL\": {\n",
    "        \"tokenizer\": \"DeepChem/ChemBERTa-77M-MTR\",\n",
    "        \"model\": \".../Focal_loss_models/chemberta_77M_MTR_FL\",\n",
    "        \"num_labels\": 5\n",
    "    },\n",
    "    \"ChemBERTa_77M_MTR_Base\": {\n",
    "        \"tokenizer\": \"DeepChem/ChemBERTa-77M-MTR\",\n",
    "        \"model\": \"DeepChem/ChemBERTa-77M-MTR\",\n",
    "        \n",
    "    },\n",
    "  \n",
    "    \"ChemBERTa_10M_MTR_Base\": {\n",
    "        \"tokenizer\": \"DeepChem/ChemBERTa-10M-MTR\",\n",
    "        \"model\": \"DeepChem/ChemBERTa-10M-MTR\",\n",
    "        \n",
    "    },\n",
    "   \n",
    "    \"ChemBERTa_10M_MLM_Base\": {\n",
    "        \"tokenizer\": \"DeepChem/ChemBERTa-10M-MLM\",\n",
    "        \"model\": \"DeepChem/ChemBERTa-10M-MLM\",\n",
    "        \n",
    "    },\n",
    "   \n",
    "    \"ChemBERTa_77M_MLM_Base\": {\n",
    "        \"tokenizer\": \"DeepChem/ChemBERTa-77M-MLM\",\n",
    "        \"model\": \"DeepChem/ChemBERTa-77M-MLM\",\n",
    "        \n",
    "    },\n",
    "    \"ChemBERTa_5M_MTR_Base\": {\n",
    "        \"tokenizer\": \"DeepChem/ChemBERTa-5M-MTR\",\n",
    "        \"model\": \"DeepChem/ChemBERTa-5M-MTR\",\n",
    "        \n",
    "    }\n",
    "\n",
    "}\n"
   ]
  },
  {
   "cell_type": "code",
   "execution_count": 14,
   "metadata": {},
   "outputs": [],
   "source": [
    "os.environ[\"TOKENIZERS_PARALLELISM\"] = \"false\""
   ]
  },
  {
   "cell_type": "code",
   "execution_count": 15,
   "metadata": {},
   "outputs": [
    {
     "name": "stdout",
     "output_type": "stream",
     "text": [
      "Using device: cpu\n"
     ]
    }
   ],
   "source": [
    "device = torch.device(\"cuda:2\" if torch.cuda.is_available() else \"cpu\")\n",
    "\n",
    "print(f\"Using device: {device}\")"
   ]
  },
  {
   "cell_type": "code",
   "execution_count": 16,
   "metadata": {},
   "outputs": [],
   "source": [
    "def load_model(model_info):\n",
    "    \"\"\"Load model and tokenizer. Choose appropriate class based on whether it's a classification model.\"\"\"\n",
    "    try:\n",
    "        tokenizer = AutoTokenizer.from_pretrained(\n",
    "            model_info[\"tokenizer\"], trust_remote_code=True\n",
    "        )\n",
    "\n",
    "        if \"num_labels\" in model_info:\n",
    "            model = AutoModelForSequenceClassification.from_pretrained(\n",
    "                model_info[\"model\"],\n",
    "                num_labels=model_info[\"num_labels\"],\n",
    "                trust_remote_code=True\n",
    "            )\n",
    "        else:\n",
    "            model = AutoModel.from_pretrained(\n",
    "                model_info[\"model\"],\n",
    "                trust_remote_code=True\n",
    "            )\n",
    "\n",
    "        model.to(device)\n",
    "        model.eval()\n",
    "        print(f\"Loaded model: {model_info['model']}\")\n",
    "        return tokenizer, model\n",
    "\n",
    "    except Exception as e:\n",
    "        print(f\"Error loading {model_info['model']}: {e}\")\n",
    "        return None, None\n"
   ]
  },
  {
   "cell_type": "code",
   "execution_count": null,
   "metadata": {},
   "outputs": [],
   "source": [
    "def get_embeddings(smiles_list, tokenizer, model, model_name):\n",
    "    \"\"\"\n",
    "    Get embeddings from MolFormer or ChemBERTa or base modeldepending on the model name.\n",
    "\n",
    "    Args:\n",
    "        smiles_list (list of str): SMILES inputs.\n",
    "        tokenizer: Huggingface tokenizer.\n",
    "        model: Huggingface model (MolFormer or ChemBERTa).\n",
    "        model_name (str): Name of the model to determine architecture.\n",
    "\n",
    "    Returns:\n",
    "        np.array: Embeddings extracted from dense layers.\n",
    "    \"\"\"\n",
    "    model.eval()\n",
    "    embeddings = []\n",
    "\n",
    "    # Define which models use MolFormer structure\n",
    "    molformer_models = {\"MolFormer_WL\", \"MolFormer_FL\"}\n",
    "    base_models={\"MolFormer_Base\",\"ChemBERTa_77M_MLM_Base\",\"ChemBERTa_10M_MLM_Base\",\"ChemBERTa_5M_MTR_Base\",\"ChemBERTa_77M_MTR_Base\",\"ChemBERTa_10M_MTR_Base\"}\n",
    "\n",
    "    # Decide model type\n",
    "    is_molformer = model_name in molformer_models\n",
    "    is_base_model = model_name in base_models\n",
    "\n",
    "    for smiles in smiles_list:\n",
    "        tokens = tokenizer(smiles, return_tensors=\"pt\", padding=True, truncation=True, max_length=512)\n",
    "        tokens = {k: v.to(model.device) for k, v in tokens.items()}\n",
    "\n",
    "        with torch.no_grad():\n",
    "            output = model(**tokens, output_hidden_states=True)\n",
    "\n",
    "            if not hasattr(output, \"hidden_states\"):\n",
    "                raise ValueError(\"Model output does not contain hidden states!\")\n",
    "\n",
    "            if is_base_model:\n",
    "                embedding = output.last_hidden_state[:, 0, :]\n",
    "\n",
    "            elif is_molformer:\n",
    "                cls_embedding = output.hidden_states[-1][:, 0, :]\n",
    "                x = model.classifier.dense(cls_embedding)\n",
    "                x = model.classifier.dense2(x)\n",
    "                x = model.classifier.classifier_act_fn(x)  # e.g., GELU\n",
    "                embedding = x\n",
    "            else:  # ChemBERTa\n",
    "                cls_embedding = output.hidden_states[-1][:, 0, :]\n",
    "                x = model.classifier.dense(cls_embedding)\n",
    "                x = torch.tanh(x)\n",
    "                embedding = x\n",
    "\n",
    "        embeddings.append(embedding.squeeze().cpu().numpy())\n",
    "\n",
    "    return np.array(embeddings)\n"
   ]
  },
  {
   "cell_type": "code",
   "execution_count": null,
   "metadata": {},
   "outputs": [],
   "source": [
    "output_dir = \".../transformer_CH_finetuned\"\n",
    "os.makedirs(output_dir, exist_ok=True)"
   ]
  },
  {
   "cell_type": "code",
   "execution_count": 19,
   "metadata": {},
   "outputs": [
    {
     "name": "stdout",
     "output_type": "stream",
     "text": [
      "Processing fart_test...\n",
      "Extracting embeddings using ChemBERTa_Base...\n"
     ]
    },
    {
     "name": "stderr",
     "output_type": "stream",
     "text": [
      "Some weights of RobertaForSequenceClassification were not initialized from the model checkpoint at seyonec/SMILES_tokenized_PubChem_shard00_160k and are newly initialized: ['classifier.dense.bias', 'classifier.dense.weight', 'classifier.out_proj.bias', 'classifier.out_proj.weight']\n",
      "You should probably TRAIN this model on a down-stream task to be able to use it for predictions and inference.\n"
     ]
    },
    {
     "name": "stdout",
     "output_type": "stream",
     "text": [
      "Loaded model: seyonec/SMILES_tokenized_PubChem_shard00_160k\n",
      "Extracting embeddings using MolFormer_Base...\n"
     ]
    },
    {
     "name": "stderr",
     "output_type": "stream",
     "text": [
      "Some weights of MolformerForSequenceClassification were not initialized from the model checkpoint at ibm-research/MoLFormer-XL-both-10pct and are newly initialized: ['classifier.dense.bias', 'classifier.dense.weight', 'classifier.dense2.bias', 'classifier.dense2.weight', 'classifier.out_proj.bias', 'classifier.out_proj.weight']\n",
      "You should probably TRAIN this model on a down-stream task to be able to use it for predictions and inference.\n"
     ]
    },
    {
     "name": "stdout",
     "output_type": "stream",
     "text": [
      "Loaded model: ibm-research/MoLFormer-XL-both-10pct\n",
      "Extracting embeddings using Molformer_Finetuned_WL...\n",
      "Loaded model: /home/raghvendra2/Molformer_Finetuning/Flavor_prediction_task/Flavor_Final_models_with_classification_head_finetuned/weighted_loss/Molformer_finetuned_WL\n",
      "Extracting embeddings using MolFormer_Finetuned_FL...\n",
      "Loaded model: /home/raghvendra2/Molformer_Finetuning/Flavor_prediction_task/Flavor_Final_models_with_classification_head_finetuned/Focal_loss_models/Molformer_finetuned_FL\n",
      "Extracting embeddings using ChemBERTa_10M_MTR_WL...\n",
      "Loaded model: /home/raghvendra2/Molformer_Finetuning/Flavor_prediction_task/Flavor_Final_models_with_classification_head_finetuned/weighted_loss/Chemberta_10M_MTR_WL\n",
      "Extracting embeddings using ChemBERTa_10M_MTR_FL...\n",
      "Loaded model: /home/raghvendra2/Molformer_Finetuning/Flavor_prediction_task/Flavor_Final_models_with_classification_head_finetuned/Focal_loss_models/chemberta_10M_MTR_FL\n",
      "Extracting embeddings using ChemBERTa_77M_MLM_WL...\n",
      "Loaded model: /home/raghvendra2/Molformer_Finetuning/Flavor_prediction_task/Flavor_Final_models_with_classification_head_finetuned/weighted_loss/Chemberta_77M_MLM_WL\n",
      "Extracting embeddings using ChemBERTa_77M_MLM_FL...\n",
      "Loaded model: /home/raghvendra2/Molformer_Finetuning/Flavor_prediction_task/Flavor_Final_models_with_classification_head_finetuned/Focal_loss_models/chemberta_77M_MLM_FL\n",
      "Extracting embeddings using ChemBERTa_10M_MLM_WL...\n",
      "Loaded model: /home/raghvendra2/Molformer_Finetuning/Flavor_prediction_task/Flavor_Final_models_with_classification_head_finetuned/weighted_loss/Chemberta_10M_MLM_WL\n",
      "Extracting embeddings using ChemBERTa_10M_MLM_FL...\n",
      "Loaded model: /home/raghvendra2/Molformer_Finetuning/Flavor_prediction_task/Flavor_Final_models_with_classification_head_finetuned/Focal_loss_models/chemberta_10M_MLM_FL\n",
      "Extracting embeddings using ChemBERTa_5M_MTR_FL...\n",
      "Loaded model: /home/raghvendra2/Molformer_Finetuning/Flavor_prediction_task/Flavor_Final_models_with_classification_head_finetuned/Focal_loss_models/chemberta_5M_MTR_FL\n",
      "Extracting embeddings using ChemBERTa_5M_MTR_WL...\n",
      "Loaded model: /home/raghvendra2/Molformer_Finetuning/Flavor_prediction_task/Flavor_Final_models_with_classification_head_finetuned/weighted_loss/Chemberta_5M_MTR_WL\n",
      "Extracting embeddings using ChemBERTa_77M_MTR_WL...\n",
      "Loaded model: /home/raghvendra2/Molformer_Finetuning/Flavor_prediction_task/Flavor_Final_models_with_classification_head_finetuned/weighted_loss/Chemberta_77M_MTR_WL\n",
      "Extracting embeddings using ChemBERTa_77M_MTR_FL...\n",
      "Loaded model: /home/raghvendra2/Molformer_Finetuning/Flavor_prediction_task/Flavor_Final_models_with_classification_head_finetuned/Focal_loss_models/chemberta_77M_MTR_FL\n",
      "Saved: /home/raghvendra2/Molformer_Finetuning/flavor_output_embeddings/transformer_CH_finetuned/fart_test_embed.csv\n",
      "Processing fart_eval...\n",
      "Extracting embeddings using ChemBERTa_Base...\n"
     ]
    },
    {
     "name": "stderr",
     "output_type": "stream",
     "text": [
      "Some weights of RobertaForSequenceClassification were not initialized from the model checkpoint at seyonec/SMILES_tokenized_PubChem_shard00_160k and are newly initialized: ['classifier.dense.bias', 'classifier.dense.weight', 'classifier.out_proj.bias', 'classifier.out_proj.weight']\n",
      "You should probably TRAIN this model on a down-stream task to be able to use it for predictions and inference.\n"
     ]
    },
    {
     "name": "stdout",
     "output_type": "stream",
     "text": [
      "Loaded model: seyonec/SMILES_tokenized_PubChem_shard00_160k\n",
      "Extracting embeddings using MolFormer_Base...\n"
     ]
    },
    {
     "name": "stderr",
     "output_type": "stream",
     "text": [
      "Some weights of MolformerForSequenceClassification were not initialized from the model checkpoint at ibm-research/MoLFormer-XL-both-10pct and are newly initialized: ['classifier.dense.bias', 'classifier.dense.weight', 'classifier.dense2.bias', 'classifier.dense2.weight', 'classifier.out_proj.bias', 'classifier.out_proj.weight']\n",
      "You should probably TRAIN this model on a down-stream task to be able to use it for predictions and inference.\n"
     ]
    },
    {
     "name": "stdout",
     "output_type": "stream",
     "text": [
      "Loaded model: ibm-research/MoLFormer-XL-both-10pct\n",
      "Extracting embeddings using Molformer_Finetuned_WL...\n",
      "Loaded model: /home/raghvendra2/Molformer_Finetuning/Flavor_prediction_task/Flavor_Final_models_with_classification_head_finetuned/weighted_loss/Molformer_finetuned_WL\n",
      "Extracting embeddings using MolFormer_Finetuned_FL...\n",
      "Loaded model: /home/raghvendra2/Molformer_Finetuning/Flavor_prediction_task/Flavor_Final_models_with_classification_head_finetuned/Focal_loss_models/Molformer_finetuned_FL\n",
      "Extracting embeddings using ChemBERTa_10M_MTR_WL...\n",
      "Loaded model: /home/raghvendra2/Molformer_Finetuning/Flavor_prediction_task/Flavor_Final_models_with_classification_head_finetuned/weighted_loss/Chemberta_10M_MTR_WL\n",
      "Extracting embeddings using ChemBERTa_10M_MTR_FL...\n",
      "Loaded model: /home/raghvendra2/Molformer_Finetuning/Flavor_prediction_task/Flavor_Final_models_with_classification_head_finetuned/Focal_loss_models/chemberta_10M_MTR_FL\n",
      "Extracting embeddings using ChemBERTa_77M_MLM_WL...\n",
      "Loaded model: /home/raghvendra2/Molformer_Finetuning/Flavor_prediction_task/Flavor_Final_models_with_classification_head_finetuned/weighted_loss/Chemberta_77M_MLM_WL\n",
      "Extracting embeddings using ChemBERTa_77M_MLM_FL...\n",
      "Loaded model: /home/raghvendra2/Molformer_Finetuning/Flavor_prediction_task/Flavor_Final_models_with_classification_head_finetuned/Focal_loss_models/chemberta_77M_MLM_FL\n",
      "Extracting embeddings using ChemBERTa_10M_MLM_WL...\n",
      "Loaded model: /home/raghvendra2/Molformer_Finetuning/Flavor_prediction_task/Flavor_Final_models_with_classification_head_finetuned/weighted_loss/Chemberta_10M_MLM_WL\n",
      "Extracting embeddings using ChemBERTa_10M_MLM_FL...\n",
      "Loaded model: /home/raghvendra2/Molformer_Finetuning/Flavor_prediction_task/Flavor_Final_models_with_classification_head_finetuned/Focal_loss_models/chemberta_10M_MLM_FL\n",
      "Extracting embeddings using ChemBERTa_5M_MTR_FL...\n",
      "Loaded model: /home/raghvendra2/Molformer_Finetuning/Flavor_prediction_task/Flavor_Final_models_with_classification_head_finetuned/Focal_loss_models/chemberta_5M_MTR_FL\n",
      "Extracting embeddings using ChemBERTa_5M_MTR_WL...\n",
      "Loaded model: /home/raghvendra2/Molformer_Finetuning/Flavor_prediction_task/Flavor_Final_models_with_classification_head_finetuned/weighted_loss/Chemberta_5M_MTR_WL\n",
      "Extracting embeddings using ChemBERTa_77M_MTR_WL...\n",
      "Loaded model: /home/raghvendra2/Molformer_Finetuning/Flavor_prediction_task/Flavor_Final_models_with_classification_head_finetuned/weighted_loss/Chemberta_77M_MTR_WL\n",
      "Extracting embeddings using ChemBERTa_77M_MTR_FL...\n",
      "Loaded model: /home/raghvendra2/Molformer_Finetuning/Flavor_prediction_task/Flavor_Final_models_with_classification_head_finetuned/Focal_loss_models/chemberta_77M_MTR_FL\n",
      "Saved: /home/raghvendra2/Molformer_Finetuning/flavor_output_embeddings/transformer_CH_finetuned/fart_eval_embed.csv\n",
      "Processing fart_train...\n",
      "Extracting embeddings using ChemBERTa_Base...\n"
     ]
    },
    {
     "name": "stderr",
     "output_type": "stream",
     "text": [
      "Some weights of RobertaForSequenceClassification were not initialized from the model checkpoint at seyonec/SMILES_tokenized_PubChem_shard00_160k and are newly initialized: ['classifier.dense.bias', 'classifier.dense.weight', 'classifier.out_proj.bias', 'classifier.out_proj.weight']\n",
      "You should probably TRAIN this model on a down-stream task to be able to use it for predictions and inference.\n"
     ]
    },
    {
     "name": "stdout",
     "output_type": "stream",
     "text": [
      "Loaded model: seyonec/SMILES_tokenized_PubChem_shard00_160k\n",
      "Extracting embeddings using MolFormer_Base...\n"
     ]
    },
    {
     "name": "stderr",
     "output_type": "stream",
     "text": [
      "Some weights of MolformerForSequenceClassification were not initialized from the model checkpoint at ibm-research/MoLFormer-XL-both-10pct and are newly initialized: ['classifier.dense.bias', 'classifier.dense.weight', 'classifier.dense2.bias', 'classifier.dense2.weight', 'classifier.out_proj.bias', 'classifier.out_proj.weight']\n",
      "You should probably TRAIN this model on a down-stream task to be able to use it for predictions and inference.\n"
     ]
    },
    {
     "name": "stdout",
     "output_type": "stream",
     "text": [
      "Loaded model: ibm-research/MoLFormer-XL-both-10pct\n",
      "Extracting embeddings using Molformer_Finetuned_WL...\n",
      "Loaded model: /home/raghvendra2/Molformer_Finetuning/Flavor_prediction_task/Flavor_Final_models_with_classification_head_finetuned/weighted_loss/Molformer_finetuned_WL\n",
      "Extracting embeddings using MolFormer_Finetuned_FL...\n",
      "Loaded model: /home/raghvendra2/Molformer_Finetuning/Flavor_prediction_task/Flavor_Final_models_with_classification_head_finetuned/Focal_loss_models/Molformer_finetuned_FL\n",
      "Extracting embeddings using ChemBERTa_10M_MTR_WL...\n",
      "Loaded model: /home/raghvendra2/Molformer_Finetuning/Flavor_prediction_task/Flavor_Final_models_with_classification_head_finetuned/weighted_loss/Chemberta_10M_MTR_WL\n",
      "Extracting embeddings using ChemBERTa_10M_MTR_FL...\n",
      "Loaded model: /home/raghvendra2/Molformer_Finetuning/Flavor_prediction_task/Flavor_Final_models_with_classification_head_finetuned/Focal_loss_models/chemberta_10M_MTR_FL\n",
      "Extracting embeddings using ChemBERTa_77M_MLM_WL...\n",
      "Loaded model: /home/raghvendra2/Molformer_Finetuning/Flavor_prediction_task/Flavor_Final_models_with_classification_head_finetuned/weighted_loss/Chemberta_77M_MLM_WL\n",
      "Extracting embeddings using ChemBERTa_77M_MLM_FL...\n",
      "Loaded model: /home/raghvendra2/Molformer_Finetuning/Flavor_prediction_task/Flavor_Final_models_with_classification_head_finetuned/Focal_loss_models/chemberta_77M_MLM_FL\n",
      "Extracting embeddings using ChemBERTa_10M_MLM_WL...\n",
      "Loaded model: /home/raghvendra2/Molformer_Finetuning/Flavor_prediction_task/Flavor_Final_models_with_classification_head_finetuned/weighted_loss/Chemberta_10M_MLM_WL\n",
      "Extracting embeddings using ChemBERTa_10M_MLM_FL...\n",
      "Loaded model: /home/raghvendra2/Molformer_Finetuning/Flavor_prediction_task/Flavor_Final_models_with_classification_head_finetuned/Focal_loss_models/chemberta_10M_MLM_FL\n",
      "Extracting embeddings using ChemBERTa_5M_MTR_FL...\n",
      "Loaded model: /home/raghvendra2/Molformer_Finetuning/Flavor_prediction_task/Flavor_Final_models_with_classification_head_finetuned/Focal_loss_models/chemberta_5M_MTR_FL\n",
      "Extracting embeddings using ChemBERTa_5M_MTR_WL...\n",
      "Loaded model: /home/raghvendra2/Molformer_Finetuning/Flavor_prediction_task/Flavor_Final_models_with_classification_head_finetuned/weighted_loss/Chemberta_5M_MTR_WL\n",
      "Extracting embeddings using ChemBERTa_77M_MTR_WL...\n",
      "Loaded model: /home/raghvendra2/Molformer_Finetuning/Flavor_prediction_task/Flavor_Final_models_with_classification_head_finetuned/weighted_loss/Chemberta_77M_MTR_WL\n",
      "Extracting embeddings using ChemBERTa_77M_MTR_FL...\n",
      "Loaded model: /home/raghvendra2/Molformer_Finetuning/Flavor_prediction_task/Flavor_Final_models_with_classification_head_finetuned/Focal_loss_models/chemberta_77M_MTR_FL\n",
      "Saved: /home/raghvendra2/Molformer_Finetuning/flavor_output_embeddings/transformer_CH_finetuned/fart_train_embed.csv\n"
     ]
    }
   ],
   "source": [
    "for dataset_name, df in datasets.items():\n",
    "    print(f\"Processing {dataset_name}...\")\n",
    "\n",
    "    for model_name, model_info in models_info.items():\n",
    "        print(f\"Extracting embeddings using {model_name}...\")\n",
    "\n",
    "        tokenizer, model = load_model(model_info)\n",
    "        if not tokenizer or not model:\n",
    "            continue \n",
    "\n",
    "        embeddings = get_embeddings(df[\"Canonicalized SMILES\"].tolist(), tokenizer, model)\n",
    "\n",
    "        df[model_name + \"_embeddings\"] = [\",\".join(map(str, emb)) for emb in embeddings]\n",
    "\n",
    "    output_path = os.path.join(output_dir, f\"{dataset_name}_embed.csv\")\n",
    "    df.to_csv(output_path, index=False)\n",
    "    print(f\"Saved: {output_path}\")"
   ]
  }
 ],
 "metadata": {
  "kernelspec": {
   "display_name": "mol_env",
   "language": "python",
   "name": "python3"
  },
  "language_info": {
   "codemirror_mode": {
    "name": "ipython",
    "version": 3
   },
   "file_extension": ".py",
   "mimetype": "text/x-python",
   "name": "python",
   "nbconvert_exporter": "python",
   "pygments_lexer": "ipython3",
   "version": "3.13.3"
  }
 },
 "nbformat": 4,
 "nbformat_minor": 2
}
