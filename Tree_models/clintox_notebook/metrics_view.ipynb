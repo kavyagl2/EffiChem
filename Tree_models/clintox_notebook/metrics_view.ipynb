{
 "cells": [
  {
   "cell_type": "code",
   "execution_count": null,
   "id": "f3e3de83",
   "metadata": {},
   "outputs": [],
   "source": [
    "import os\n",
    "import numpy as np\n",
    "import pandas as pd\n",
    "\n",
    "results_dir = \".../chemberta_base_clintox_T_CH\"\n",
    "\n",
    "metric_files = sorted([f for f in os.listdir(results_dir) if f.startswith(\"metrics_\") and f.endswith(\".npy\")])\n",
    "\n",
    "for file_name in metric_files:\n",
    "    file_path = os.path.join(results_dir, file_name)\n",
    "    \n",
    "    try:\n",
    "        if (\"CT_TOX\" in file_name):\n",
    "            metrics_dict = np.load(file_path, allow_pickle=True).item()\n",
    "            metrics_df = pd.DataFrame(metrics_dict).T\n",
    "        \n",
    "            print(f\"\\n===== Metrics from: {file_name} =====\")\n",
    "            print(metrics_df.to_string())\n",
    "\n",
    "    except Exception as e:\n",
    "        print(f\"Error reading {file_name}: {e}\")\n"
   ]
  }
 ],
 "metadata": {
  "kernelspec": {
   "display_name": "mol_env",
   "language": "python",
   "name": "python3"
  },
  "language_info": {
   "codemirror_mode": {
    "name": "ipython",
    "version": 3
   },
   "file_extension": ".py",
   "mimetype": "text/x-python",
   "name": "python",
   "nbconvert_exporter": "python",
   "pygments_lexer": "ipython3",
   "version": "3.13.3"
  }
 },
 "nbformat": 4,
 "nbformat_minor": 5
}
